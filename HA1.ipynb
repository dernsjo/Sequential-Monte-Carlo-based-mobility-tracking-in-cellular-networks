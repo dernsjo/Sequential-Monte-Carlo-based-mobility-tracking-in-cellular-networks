{
 "cells": [
  {
   "cell_type": "code",
   "execution_count": 1,
   "id": "dd1a8ab6",
   "metadata": {},
   "outputs": [],
   "source": [
    "import numpy as np\n",
    "import matplotlib as plt"
   ]
  },
  {
   "cell_type": "markdown",
   "id": "3eae4516",
   "metadata": {},
   "source": [
    "# Problem 1\n",
    "Implement a MATLAB code simulating a trajectory {(Xn1, Xn2)}mn=0 of some arbitrary length m and plot the same. Does it look like a reasonable trajectory of a moving target?"
   ]
  },
  {
   "cell_type": "code",
   "execution_count": 128,
   "id": "63759925",
   "metadata": {},
   "outputs": [],
   "source": [
    "delta_t = 0.5 #sec\n",
    "alpha = 0.6   \n",
    "\n",
    "Phi_tilde = np.array([[1, delta_t, delta_t**2/2],[0, 1, delta_t],[0, 0, alpha]])\n",
    "Phi = np.block([[Phi_tilde, np.zeros((3,3))],[np.zeros((3,3)),Phi_tilde]])\n",
    "\n",
    "Psi_tilde_z = np.array([[delta_t**2/2],[delta_t],[0]])\n",
    "Psi_z = np.block([[Psi_tilde_z,np.zeros((3,1))],[np.zeros((3,1)),Psi_tilde_z]]) \n",
    "\n",
    "Psi_tilde_w = np.array([[delta_t**2/2],[delta_t],[1]])\n",
    "Psi_w = np.block([[Psi_tilde_w,np.zeros((3,1))],[np.zeros((3,1)),Psi_tilde_w]]) "
   ]
  },
  {
   "cell_type": "code",
   "execution_count": 158,
   "id": "1ef79c41",
   "metadata": {},
   "outputs": [],
   "source": [
    "sigma=0.5\n",
    "\n",
    "X_0 = np.random.multivariate_normal([0,0,0,0,0,0],np.diag([500, 5, 5, 200, 5, 5]))\n",
    "rand = np.random.randint(0, high=5, dtype=int)\n",
    "Z = np.array([[0, 0],[3.5, 0],[0, 3.5],[0, -3.5],[-3.5,0]])\n"
   ]
  },
  {
   "cell_type": "code",
   "execution_count": 165,
   "id": "d936d759",
   "metadata": {},
   "outputs": [
    {
     "data": {
      "text/plain": [
       "array([-0.44288712, -0.2279791 ])"
      ]
     },
     "execution_count": 165,
     "metadata": {},
     "output_type": "execute_result"
    }
   ],
   "source": [
    "m=3\n",
    "X=np.empty((m+1,6))\n",
    "X[0]=X_0\n",
    "for i in range(m):\n",
    "    W = np.random.multivariate_normal([0,0],np.diag([sigma**2, sigma**2]))\n",
    "    rand = np.random.randint(0, high=5, dtype=int)\n",
    "    X[i+1]=Phi@X[i]+Psi_z@Z[rand]+Psi_w@W"
   ]
  },
  {
   "cell_type": "code",
   "execution_count": null,
   "id": "038cc2d4",
   "metadata": {},
   "outputs": [],
   "source": []
  }
 ],
 "metadata": {
  "kernelspec": {
   "display_name": "Python 3 (ipykernel)",
   "language": "python",
   "name": "python3"
  },
  "language_info": {
   "codemirror_mode": {
    "name": "ipython",
    "version": 3
   },
   "file_extension": ".py",
   "mimetype": "text/x-python",
   "name": "python",
   "nbconvert_exporter": "python",
   "pygments_lexer": "ipython3",
   "version": "3.9.7"
  }
 },
 "nbformat": 4,
 "nbformat_minor": 5
}
